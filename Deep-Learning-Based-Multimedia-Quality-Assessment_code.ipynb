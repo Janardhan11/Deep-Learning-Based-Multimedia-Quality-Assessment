{
  "nbformat": 4,
  "nbformat_minor": 0,
  "metadata": {
    "colab": {
      "provenance": [],
      "collapsed_sections": [
        "gPdj7fFvsf0I"
      ]
    },
    "kernelspec": {
      "name": "python3",
      "display_name": "Python 3"
    },
    "language_info": {
      "name": "python"
    }
  },
  "cells": [
    {
      "cell_type": "markdown",
      "source": [
        "# Image Quality assessment using Deep Learning techniques"
      ],
      "metadata": {
        "id": "DPCfkY2Yevya"
      }
    },
    {
      "cell_type": "markdown",
      "source": [
        "## Importing libraries"
      ],
      "metadata": {
        "id": "pv2MY4Ize96u"
      }
    },
    {
      "cell_type": "code",
      "execution_count": 1,
      "metadata": {
        "id": "qAB1z5ZUesSa"
      },
      "outputs": [],
      "source": [
        "import numpy as np\n",
        "import cv2"
      ]
    },
    {
      "cell_type": "code",
      "source": [
        "import os"
      ],
      "metadata": {
        "id": "Hz1NDpxog9A1"
      },
      "execution_count": null,
      "outputs": []
    },
    {
      "cell_type": "code",
      "source": [
        "# connecting google drive and colab\n",
        "from google.colab import drive\n",
        "drive.mount('/content/drive')"
      ],
      "metadata": {
        "id": "n7Rew7Zve5AQ"
      },
      "execution_count": null,
      "outputs": []
    },
    {
      "cell_type": "markdown",
      "source": [
        "## SSIM code"
      ],
      "metadata": {
        "id": "gPdj7fFvsf0I"
      }
    },
    {
      "cell_type": "code",
      "source": [
        "# Function to calculate SSIM and save SSIM map\n",
        "def calculate_and_save_ssim_map(reference_img_path, distorted_img_path, output_path):\n",
        "    # Load reference and distorted images\n",
        "    img1 = cv2.imread(reference_img_path, cv2.IMREAD_GRAYSCALE)\n",
        "    img2 = cv2.imread(distorted_img_path, cv2.IMREAD_GRAYSCALE)\n",
        "\n",
        "    # Calculate SSIM and SSIM map\n",
        "    mssim, ssim_map = cal_ssim(img1, img2)\n",
        "\n",
        "    # Save the SSIM map\n",
        "    cv2.imwrite(output_path, (ssim_map * 255).astype(np.uint8))"
      ],
      "metadata": {
        "id": "RHBEAcFosbRX"
      },
      "execution_count": null,
      "outputs": []
    },
    {
      "cell_type": "code",
      "source": [
        "import cv2\n",
        "import numpy as np\n",
        "from scipy import signal\n",
        "\n",
        "def cal_ssim(img1, img2):\n",
        "\n",
        "    K = [0.01, 0.03]\n",
        "    L = 255\n",
        "    kernelX = cv2.getGaussianKernel(11, 1.5)\n",
        "    window = kernelX * kernelX.T\n",
        "\n",
        "    M,N = np.shape(img1)\n",
        "\n",
        "    C1 = (K[0]*L)**2\n",
        "    C2 = (K[1]*L)**2\n",
        "    img1 = np.float64(img1)\n",
        "    img2 = np.float64(img2)\n",
        "\n",
        "    mu1 = signal.convolve2d(img1, window, 'valid')\n",
        "    mu2 = signal.convolve2d(img2, window, 'valid')\n",
        "\n",
        "    mu1_sq = mu1*mu1\n",
        "    mu2_sq = mu2*mu2\n",
        "    mu1_mu2 = mu1*mu2\n",
        "\n",
        "\n",
        "    sigma1_sq = signal.convolve2d(img1*img1, window, 'valid') - mu1_sq\n",
        "    sigma2_sq = signal.convolve2d(img2*img2, window, 'valid') - mu2_sq\n",
        "    sigma12 = signal.convolve2d(img1*img2, window, 'valid') - mu1_mu2\n",
        "\n",
        "    ssim_map = ((2*mu1_mu2 + C1)*(2*sigma12 + C2))/((mu1_sq + mu2_sq + C1)*(sigma1_sq + sigma2_sq + C2))\n",
        "    mssim = np.mean(ssim_map)\n",
        "    return mssim,ssim_map"
      ],
      "metadata": {
        "id": "sJDA1EYfsnh8"
      },
      "execution_count": null,
      "outputs": []
    },
    {
      "cell_type": "code",
      "source": [
        "dist_fold = '/content/drive/MyDrive/NRIQA/distorted_images'\n",
        "ref_fold = '/content/drive/MyDrive/NRIQA/reference_images'\n",
        "\n",
        "out_fold = '/content/drive/MyDrive/NRIQA/output'\n",
        "os.makedirs(out_fold, exist_ok = True)"
      ],
      "metadata": {
        "id": "V2KNk-HZyOy0"
      },
      "execution_count": null,
      "outputs": []
    },
    {
      "cell_type": "code",
      "source": [
        "distorted_files = os.listdir(dist_fold)\n",
        "reference_files = os.listdir(ref_fold)"
      ],
      "metadata": {
        "id": "XFJ-w84qyP6l"
      },
      "execution_count": null,
      "outputs": []
    },
    {
      "cell_type": "code",
      "source": [
        "for reference_file in reference_files:\n",
        "    # Iterate through each distorted image\n",
        "    for distorted_file in distorted_files:\n",
        "        # Check if the first 3 letters of the distorted image match the reference image\n",
        "        if reference_file[:3] == distorted_file[:3]:\n",
        "            distorted_img_path = os.path.join(dist_fold, distorted_file)\n",
        "            reference_img_path = os.path.join(ref_fold, reference_file)\n",
        "            output_path = os.path.join(out_fold, f'{os.path.splitext(distorted_file)[0]}_ssim_map.bmp')\n",
        "\n",
        "            # Calculate and save SSIM map for each pair of images\n",
        "            calculate_and_save_ssim_map(reference_img_path, distorted_img_path, output_path)"
      ],
      "metadata": {
        "id": "9-iadUo1s5v3"
      },
      "execution_count": null,
      "outputs": []
    },
    {
      "cell_type": "markdown",
      "source": [
        "## CAE"
      ],
      "metadata": {
        "id": "1r0kuPmxBcxt"
      }
    },
    {
      "cell_type": "markdown",
      "source": [
        "### pre-processing"
      ],
      "metadata": {
        "id": "zhAo0ag9Bp2g"
      }
    },
    {
      "cell_type": "code",
      "source": [
        "# checking whether the number of distortion images and distortion maps are equal or not\n",
        "dist_img = '/content/drive/MyDrive/NRIQA/distorted_images'\n",
        "dist_map = '/content/drive/MyDrive/NRIQA/output'\n",
        "\n",
        "file1 = os.listdir(dist_img)\n",
        "file2 = os.listdir(dist_map)\n",
        "if len(file1) == len(file2):\n",
        "  print('Both have same number of images')\n",
        "else:\n",
        "  print('Both doesnt have same number of images')"
      ],
      "metadata": {
        "id": "59nUPgV4Bbb4"
      },
      "execution_count": null,
      "outputs": []
    },
    {
      "cell_type": "code",
      "source": [
        "print(file1)"
      ],
      "metadata": {
        "id": "qnb0Gbjob0Rx"
      },
      "execution_count": null,
      "outputs": []
    },
    {
      "cell_type": "code",
      "source": [
        "print(file2)"
      ],
      "metadata": {
        "id": "P2aQ7cZqb4GW"
      },
      "execution_count": null,
      "outputs": []
    },
    {
      "cell_type": "code",
      "source": [
        "# fixing image size\n",
        "height = 200\n",
        "width =  150\n",
        "x = []\n",
        "y = []"
      ],
      "metadata": {
        "id": "v-oNKoi4IX2v"
      },
      "execution_count": null,
      "outputs": []
    },
    {
      "cell_type": "code",
      "source": [
        "from PIL import Image\n",
        "import matplotlib.pyplot as plt"
      ],
      "metadata": {
        "id": "2m5hl515jUs0"
      },
      "execution_count": null,
      "outputs": []
    },
    {
      "cell_type": "code",
      "source": [
        "for i in file1:\n",
        "  img_fold = os.path.join(dist_img, i)\n",
        "  image = cv2.imread(img_fold)\n",
        "  resized_image = cv2.resize(image, (height, width))\n",
        "  im_arr = resized_image/255.0\n",
        "  x.append(im_arr)"
      ],
      "metadata": {
        "id": "1cTVkgECkyBS"
      },
      "execution_count": null,
      "outputs": []
    },
    {
      "cell_type": "code",
      "source": [
        "x_array = np.array(x)"
      ],
      "metadata": {
        "id": "oNzsVnr9J2lP"
      },
      "execution_count": null,
      "outputs": []
    },
    {
      "cell_type": "code",
      "source": [
        "x_array.shape"
      ],
      "metadata": {
        "id": "kA0bfFl4YklL"
      },
      "execution_count": null,
      "outputs": []
    },
    {
      "cell_type": "code",
      "source": [
        "for j in file2:\n",
        "  map_fold = os.path.join(dist_map, j)\n",
        "  map = cv2.imread(map_fold)\n",
        "  resized_map = cv2.resize(map, (height, width))\n",
        "  map_arr = resized_map/255.0\n",
        "  y.append(map_arr)"
      ],
      "metadata": {
        "id": "B9KFNj4UtvwP"
      },
      "execution_count": null,
      "outputs": []
    },
    {
      "cell_type": "code",
      "source": [
        "y_array = np.array(y)"
      ],
      "metadata": {
        "id": "zIAZezSThRja"
      },
      "execution_count": null,
      "outputs": []
    },
    {
      "cell_type": "code",
      "source": [
        "x_array.shape"
      ],
      "metadata": {
        "id": "u-gMHhXMSfui"
      },
      "execution_count": null,
      "outputs": []
    },
    {
      "cell_type": "code",
      "source": [
        "import tensorflow as tf\n",
        "from tensorflow import keras\n",
        "from keras import layers, Sequential\n",
        "from keras.layers import Conv2D, UpSampling2D"
      ],
      "metadata": {
        "id": "FzrVizdk4Gsp"
      },
      "execution_count": null,
      "outputs": []
    },
    {
      "cell_type": "code",
      "source": [
        "input_shape = (150, 200, 3)"
      ],
      "metadata": {
        "id": "iMannNIgRlVg"
      },
      "execution_count": null,
      "outputs": []
    },
    {
      "cell_type": "code",
      "source": [
        "model = Sequential([\n",
        "\n",
        "    # Encoder\n",
        "    layers.Conv2D(32, (3, 3), activation='relu', padding='same', input_shape = (input_shape)),\n",
        "    layers.MaxPooling2D((2, 2), padding='same'),\n",
        "    layers.Conv2D(64, (3, 3), activation='relu', padding='same'),\n",
        "    layers.MaxPooling2D((2, 2), padding='same'),\n",
        "    layers.Conv2D(64, (3, 3), activation='relu', padding='same'),\n",
        "\n",
        "    # Decoder\n",
        "    layers.Conv2D(64, (3, 3), activation='relu', padding='same'),\n",
        "    layers.UpSampling2D((2, 2)),\n",
        "    layers.Conv2D(64, (3, 3), activation='relu', padding='same'),\n",
        "    layers.UpSampling2D((2, 2)),\n",
        "    layers.Conv2D(32, (3, 3), activation='relu', padding='same'),\n",
        "    layers.Conv2D(1, (3, 3), activation='sigmoid', padding='same'),\n",
        "])"
      ],
      "metadata": {
        "id": "aBfGzbBb2l6T"
      },
      "execution_count": null,
      "outputs": []
    },
    {
      "cell_type": "code",
      "source": [
        "model.summary()"
      ],
      "metadata": {
        "id": "JBed49fM33LA"
      },
      "execution_count": null,
      "outputs": []
    },
    {
      "cell_type": "code",
      "source": [
        "# Compile the model\n",
        "model.compile(optimizer='adam', loss='mean_squared_error', metrics = ['accuracy'])"
      ],
      "metadata": {
        "id": "pcuuIJV4N_NO"
      },
      "execution_count": null,
      "outputs": []
    },
    {
      "cell_type": "code",
      "source": [
        "h = model.fit(x_array, y_array, epochs=10, batch_size=10, validation_split=0.2)"
      ],
      "metadata": {
        "id": "rzVhoHrFQSsH"
      },
      "execution_count": null,
      "outputs": []
    },
    {
      "cell_type": "code",
      "source": [
        "h.save('/content/drive/MyDrive/NRIQA/model/cae_model.h5')"
      ],
      "metadata": {
        "id": "NhcU1iS5QYTO"
      },
      "execution_count": null,
      "outputs": []
    },
    {
      "cell_type": "code",
      "source": [
        "from keras.models import load_model\n",
        "loaded_model = load_model('/content/drive/MyDrive/NRIQA/model/cae_model.h5')"
      ],
      "metadata": {
        "id": "ZwRBxaeecLNd"
      },
      "execution_count": null,
      "outputs": []
    },
    {
      "cell_type": "code",
      "source": [
        "import cv2\n",
        "import numpy as np\n",
        "\n",
        "new_image = cv2.imread('/content/drive/MyDrive/NRIQA/test/images.jpeg')\n",
        "new_image = cv2.resize(new_image, (200, 200))\n",
        "new_image = new_image / 255.0\n",
        "new_image = np.expand_dims(new_image, axis=0)\n"
      ],
      "metadata": {
        "id": "bjIjT783cLQQ"
      },
      "execution_count": null,
      "outputs": []
    },
    {
      "cell_type": "code",
      "source": [
        "predicted_distortion_map = loaded_model.predict(new_image)"
      ],
      "metadata": {
        "id": "TibAcSA0cLSb"
      },
      "execution_count": null,
      "outputs": []
    },
    {
      "cell_type": "code",
      "source": [
        "import cv2\n",
        "import numpy as np\n",
        "import matplotlib.pyplot as plt\n",
        "\n",
        "new_image = cv2.imread('/content/drive/MyDrive/NRIQA/test/1.jpg')\n",
        "height, width = 200, 200\n",
        "new_image = cv2.resize(new_image, (width, height))\n",
        "new_image = new_image / 255.0\n",
        "new_image = np.expand_dims(new_image, axis=0)\n",
        "predicted_distortion_map = loaded_model.predict(new_image)\n",
        "predicted_distortion_map = (predicted_distortion_map * 255).astype(np.uint8)\n",
        "\n",
        "\n",
        "plt.figure(figsize=(10, 5))\n",
        "plt.subplot(1, 2, 1)\n",
        "plt.imshow(new_image[0])\n",
        "plt.title('Tested Image')\n",
        "plt.axis('off')\n",
        "\n",
        "plt.subplot(1, 2, 2)\n",
        "plt.imshow(predicted_distortion_map[0, :, :, 0], cmap='gray')\n",
        "plt.title('Distortion Map')\n",
        "plt.axis('off')\n",
        "plt.show()\n"
      ],
      "metadata": {
        "id": "avND18IHcLU2"
      },
      "execution_count": null,
      "outputs": []
    }
  ]
}